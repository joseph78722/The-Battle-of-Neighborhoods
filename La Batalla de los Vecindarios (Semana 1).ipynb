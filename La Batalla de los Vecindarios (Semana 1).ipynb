{
 "cells": [
  {
   "cell_type": "markdown",
   "metadata": {},
   "source": [
    "##  Proyecto Capstone - La Batalla de los Vecindarios (Semana 1)"
   ]
  },
  {
   "cell_type": "markdown",
   "metadata": {},
   "source": [
    "### Introducción/Problema Comercial"
   ]
  },
  {
   "cell_type": "markdown",
   "metadata": {},
   "source": [
    "La ciudad de Nueva York muestra que es una de las mayores metrópolis del planeta. Es la capital económica del mundo donde todos los días las mayores compañías del mundo dirigen sus negocios desde esta urbe. Nueva York, con 8,3 millones de habitantes en 2019, es de las ciudades con mayor actividad del mundo, sin embargo su agitada forma de vida puede traer consigo problemas en la salud mental de sus habitantes.Depresión, estrés, ansiedad son algunos problemas frecuentes que padecen los neoyorquinos. Según estudios especializados presentados por el Departamento de Salud de esa ciudad en el año 2016, 8% de los residentes de Nueva York sufren síntomas de depresión, uno de los varios problemas mentales que afectan a uno de cada cinco neoyorquinos.\n",
    "\n",
    "Así mismo, New York es una de las ciudades más estresantes del mundo. William Russell, un proveedor internacional de seguros de salud, vida y protección de ingresos, realizó un estudio en 2022 que sitúa a esta ciudad más estresante de los Estados Unidos.\n",
    "\n",
    "Están aumentando los estudios que demuestran que la práctica del yoga puede ayudar con la depresión y la ansiedad; problemas de salud mental. Un estudio  publicado en 2020 por el British Journal of Sports Medicine, ha descubierto que practicar sesiones de yoga puede mejorar los síntomas de la depresión en personas con una variedad de problemas mentales; además, practicar más sesiones por semana resultó con una disminución más significativa de los síntomas.\n",
    "\n",
    "En distintos estudios, también demuestran que el yoga puede ayudar a reducir el estrés y la ansiedad. El yoga puede mejorar el estado de ánimo y la sensación general de bienestar.\n",
    "\n",
    "El objetivo de este proyecto final es analizar y seleccionar las mejores ubicaciones en la ciudad de Nueva York para abrir un nuevo estudio de yoga  mediante el análisis y la visualización de datos. El proyecto es particularmente útil para quienes desean realizar emprendimientos de esta naturaleza en la ciudad de Nueva York."
   ]
  },
  {
   "cell_type": "markdown",
   "metadata": {},
   "source": [
    "### Datos"
   ]
  },
  {
   "cell_type": "markdown",
   "metadata": {},
   "source": [
    "Para llevar a cabo este proyecto final, se requieren los siguientes datos de la ciudad de Nueva York:\n",
    "\n",
    "1. Datos de la ciudad de Nueva York relacionados con vecindarios y distritos.\n",
    "\n",
    "2. Coordenadas de latitud y longitud de los vecindarios.\n",
    "\n",
    "3. Datos de estudios de yoga existentes en la ciudad de Nueva York.\n",
    "\n",
    "Los datos de la ciudad de Nueva York relacionados con los vecindarios y distritos se pueden obtener de la fuente de datos abierta (https://cocl.us/new_york_dataset) y las coordenadas geográficas de los vecindarios, como la latitud y la longitud, del paquete Python Geocoder. La API de Foursquare será necesaria para obtener datos de lugares de los vecindarios de la ciudad de Nueva York."
   ]
  }
 ],
 "metadata": {
  "language_info": {
   "name": "python"
  },
  "orig_nbformat": 4
 },
 "nbformat": 4,
 "nbformat_minor": 2
}
